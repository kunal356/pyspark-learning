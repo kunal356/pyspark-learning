{
 "cells": [
  {
   "cell_type": "code",
   "execution_count": 0,
   "metadata": {
    "application/vnd.databricks.v1+cell": {
     "cellMetadata": {
      "byteLimit": 2048000,
      "rowLimit": 10000
     },
     "inputWidgets": {},
     "nuid": "79255f74-9f17-42ba-aa78-2667c037e962",
     "showTitle": false,
     "title": ""
    }
   },
   "outputs": [],
   "source": [
    "orders_list = [\n",
    "    (\"01\", \"02\", 350, 1),\n",
    "    (\"01\", \"04\", 580, 1),\n",
    "    (\"01\", \"07\", 320, 2),\n",
    "    (\"02\", \"03\", 450, 1),\n",
    "    (\"02\", \"06\", 220, 1),\n",
    "    (\"03\", \"01\", 195, 1),\n",
    "    (\"04\", \"09\", 270, 3),\n",
    "    (\"04\", \"08\", 410, 2),\n",
    "    (\"05\", \"02\", 350, 1),\n",
    "]"
   ]
  },
  {
   "cell_type": "code",
   "execution_count": 0,
   "metadata": {
    "application/vnd.databricks.v1+cell": {
     "cellMetadata": {
      "byteLimit": 2048000,
      "rowLimit": 10000
     },
     "inputWidgets": {},
     "nuid": "8360542f-5d2d-48f3-96cd-6c70adcae679",
     "showTitle": false,
     "title": ""
    }
   },
   "outputs": [],
   "source": [
    "order_df = spark.createDataFrame(orders_list).toDF(\"order_id\", \"prod_id\", \"unit_price\", \"qty\")"
   ]
  },
  {
   "cell_type": "code",
   "execution_count": 0,
   "metadata": {
    "application/vnd.databricks.v1+cell": {
     "cellMetadata": {
      "byteLimit": 2048000,
      "rowLimit": 10000
     },
     "inputWidgets": {},
     "nuid": "fb6badb6-317d-456a-a97f-47bb9df73195",
     "showTitle": false,
     "title": ""
    }
   },
   "outputs": [],
   "source": [
    "product_list = [(\"01\", \"Scroll Mouse\", 250, 20),\n",
    "                    (\"02\", \"Optical Mouse\", 350, 20),\n",
    "                    (\"03\", \"Wireless Mouse\", 450, 50),\n",
    "                    (\"04\", \"Wireless Keyboard\", 580, 50),\n",
    "                    (\"05\", \"Standard Keyboard\", 360, 10),\n",
    "                    (\"06\", \"16 GB Flash Storage\", 240, 100),\n",
    "                    (\"07\", \"32 GB Flash Storage\", 320, 50),\n",
    "                    (\"08\", \"64 GB Flash Storage\", 430, 25)]\n"
   ]
  },
  {
   "cell_type": "code",
   "execution_count": 0,
   "metadata": {
    "application/vnd.databricks.v1+cell": {
     "cellMetadata": {
      "byteLimit": 2048000,
      "rowLimit": 10000
     },
     "inputWidgets": {},
     "nuid": "6f3cb3e8-76ca-4c34-9588-b7d1341c4808",
     "showTitle": false,
     "title": ""
    }
   },
   "outputs": [],
   "source": [
    "product_df = spark.createDataFrame(product_list).toDF(\"prod_id\", \"prod_name\", \"list_price\", \"qty\")"
   ]
  },
  {
   "cell_type": "code",
   "execution_count": 0,
   "metadata": {
    "application/vnd.databricks.v1+cell": {
     "cellMetadata": {
      "byteLimit": 2048000,
      "rowLimit": 10000
     },
     "inputWidgets": {},
     "nuid": "397913d4-c7e1-43d5-b593-bcca1acea500",
     "showTitle": false,
     "title": ""
    }
   },
   "outputs": [
    {
     "output_type": "stream",
     "name": "stdout",
     "output_type": "stream",
     "text": [
      "+-------+-------------------+----------+---+\n|prod_id|          prod_name|list_price|qty|\n+-------+-------------------+----------+---+\n|     01|       Scroll Mouse|       250| 20|\n|     02|      Optical Mouse|       350| 20|\n|     03|     Wireless Mouse|       450| 50|\n|     04|  Wireless Keyboard|       580| 50|\n|     05|  Standard Keyboard|       360| 10|\n|     06|16 GB Flash Storage|       240|100|\n|     07|32 GB Flash Storage|       320| 50|\n|     08|64 GB Flash Storage|       430| 25|\n+-------+-------------------+----------+---+\n\n+--------+-------+----------+---+\n|order_id|prod_id|unit_price|qty|\n+--------+-------+----------+---+\n|      01|     02|       350|  1|\n|      01|     04|       580|  1|\n|      01|     07|       320|  2|\n|      02|     03|       450|  1|\n|      02|     06|       220|  1|\n|      03|     01|       195|  1|\n|      04|     09|       270|  3|\n|      04|     08|       410|  2|\n|      05|     02|       350|  1|\n+--------+-------+----------+---+\n\n"
     ]
    }
   ],
   "source": [
    "product_df.show()\n",
    "order_df.show()"
   ]
  },
  {
   "cell_type": "code",
   "execution_count": 0,
   "metadata": {
    "application/vnd.databricks.v1+cell": {
     "cellMetadata": {
      "byteLimit": 2048000,
      "rowLimit": 10000
     },
     "inputWidgets": {},
     "nuid": "c02e7572-2784-4265-afbd-8a7294451464",
     "showTitle": false,
     "title": ""
    }
   },
   "outputs": [],
   "source": [
    "join_expr = order_df.prod_id == product_df.prod_id"
   ]
  },
  {
   "cell_type": "code",
   "execution_count": 0,
   "metadata": {
    "application/vnd.databricks.v1+cell": {
     "cellMetadata": {
      "byteLimit": 2048000,
      "rowLimit": 10000
     },
     "inputWidgets": {},
     "nuid": "589d816e-97c3-499d-aa86-39162ba91baf",
     "showTitle": false,
     "title": ""
    }
   },
   "outputs": [],
   "source": [
    "product_renamed_df = product_df.withColumnRenamed(\"qty\", \"reorder_qty\")"
   ]
  },
  {
   "cell_type": "code",
   "execution_count": 0,
   "metadata": {
    "application/vnd.databricks.v1+cell": {
     "cellMetadata": {
      "byteLimit": 2048000,
      "rowLimit": 10000
     },
     "inputWidgets": {},
     "nuid": "6527b64a-4627-42d6-ab35-0b39ccdd3b85",
     "showTitle": false,
     "title": ""
    }
   },
   "outputs": [
    {
     "output_type": "stream",
     "name": "stdout",
     "output_type": "stream",
     "text": [
      "+--------+-------+-------------------+----------+----------+---+\n|order_id|prod_id|          prod_name|unit_price|list_price|qty|\n+--------+-------+-------------------+----------+----------+---+\n|      03|     01|       Scroll Mouse|       195|       250|  1|\n|      01|     02|      Optical Mouse|       350|       350|  1|\n|      05|     02|      Optical Mouse|       350|       350|  1|\n|      02|     03|     Wireless Mouse|       450|       450|  1|\n|      01|     04|  Wireless Keyboard|       580|       580|  1|\n|      02|     06|16 GB Flash Storage|       220|       240|  1|\n|      01|     07|32 GB Flash Storage|       320|       320|  2|\n|      04|     08|64 GB Flash Storage|       410|       430|  2|\n+--------+-------+-------------------+----------+----------+---+\n\n"
     ]
    }
   ],
   "source": [
    "order_df.join(product_renamed_df, join_expr, \"inner\")\\\n",
    "    .drop(product_renamed_df.prod_id) \\\n",
    "    .select(\"order_id\",\"prod_id\",\"prod_name\",\"unit_price\",\"list_price\", \"qty\").show()"
   ]
  },
  {
   "cell_type": "code",
   "execution_count": 0,
   "metadata": {
    "application/vnd.databricks.v1+cell": {
     "cellMetadata": {},
     "inputWidgets": {},
     "nuid": "65099b35-0db1-4060-9428-c3885e0200e2",
     "showTitle": false,
     "title": ""
    }
   },
   "outputs": [],
   "source": []
  },
  {
   "cell_type": "code",
   "execution_count": 0,
   "metadata": {
    "application/vnd.databricks.v1+cell": {
     "cellMetadata": {},
     "inputWidgets": {},
     "nuid": "f77ad17f-2fd5-4cfd-bcbc-2abceb19fbeb",
     "showTitle": false,
     "title": ""
    }
   },
   "outputs": [],
   "source": []
  },
  {
   "cell_type": "code",
   "execution_count": 0,
   "metadata": {
    "application/vnd.databricks.v1+cell": {
     "cellMetadata": {},
     "inputWidgets": {},
     "nuid": "9ddd080b-cda5-4449-9b5a-5c65ac6d0aab",
     "showTitle": false,
     "title": ""
    }
   },
   "outputs": [],
   "source": []
  },
  {
   "cell_type": "code",
   "execution_count": 0,
   "metadata": {
    "application/vnd.databricks.v1+cell": {
     "cellMetadata": {},
     "inputWidgets": {},
     "nuid": "0e41c717-41cb-4b73-a169-8ace0ec02939",
     "showTitle": false,
     "title": ""
    }
   },
   "outputs": [],
   "source": []
  },
  {
   "cell_type": "code",
   "execution_count": 0,
   "metadata": {
    "application/vnd.databricks.v1+cell": {
     "cellMetadata": {},
     "inputWidgets": {},
     "nuid": "dcce7663-eb64-482b-ad09-044d8b061509",
     "showTitle": false,
     "title": ""
    }
   },
   "outputs": [],
   "source": []
  }
 ],
 "metadata": {
  "application/vnd.databricks.v1+notebook": {
   "dashboards": [],
   "environmentMetadata": null,
   "language": "python",
   "notebookMetadata": {
    "pythonIndentUnit": 4
   },
   "notebookName": "SparkDF InnerJoin",
   "widgets": {}
  }
 },
 "nbformat": 4,
 "nbformat_minor": 0
}
