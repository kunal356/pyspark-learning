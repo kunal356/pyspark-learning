{
 "cells": [
  {
   "cell_type": "code",
   "execution_count": 0,
   "metadata": {
    "application/vnd.databricks.v1+cell": {
     "cellMetadata": {
      "byteLimit": 2048000,
      "rowLimit": 10000
     },
     "inputWidgets": {},
     "nuid": "59674fbf-fc4f-4d7d-b984-a8fbd1f60786",
     "showTitle": false,
     "title": ""
    }
   },
   "outputs": [],
   "source": [
    "from pyspark.sql import *\n",
    "from pyspark.sql.functions import *\n",
    "from pyspark.sql.types import *"
   ]
  },
  {
   "cell_type": "code",
   "execution_count": 0,
   "metadata": {
    "application/vnd.databricks.v1+cell": {
     "cellMetadata": {
      "byteLimit": 2048000,
      "rowLimit": 10000
     },
     "inputWidgets": {},
     "nuid": "3b4a0644-0853-477e-8f79-e6b6d5b4c4c6",
     "showTitle": false,
     "title": ""
    }
   },
   "outputs": [],
   "source": [
    "data_list = [(\"Ravi\", \"28\", \"1\", \"2002\"),\n",
    "    (\"Abdul Katwa\", \"23\", \"5\", \"81\"),\n",
    "    (\"John\", \"12\", \"12\", \"6\"),\n",
    "    (\"Rosy\", \"7\", \"8\", \"63\"),\n",
    "    (\"Abdul Katwa\", \"23\", \"5\", \"81\")]"
   ]
  },
  {
   "cell_type": "code",
   "execution_count": 0,
   "metadata": {
    "application/vnd.databricks.v1+cell": {
     "cellMetadata": {
      "byteLimit": 2048000,
      "rowLimit": 10000
     },
     "inputWidgets": {},
     "nuid": "b2df15c3-4aad-40e8-9db4-3934a74176af",
     "showTitle": false,
     "title": ""
    }
   },
   "outputs": [
    {
     "output_type": "stream",
     "name": "stdout",
     "output_type": "stream",
     "text": [
      "root\n |-- name: string (nullable = true)\n |-- day: string (nullable = true)\n |-- month: string (nullable = true)\n |-- year: string (nullable = true)\n\n"
     ]
    }
   ],
   "source": [
    "raw_df = spark.createDataFrame(data_list).toDF(\"name\", \"day\", \"month\", \"year\").repartition(3)\n",
    "raw_df.printSchema()"
   ]
  },
  {
   "cell_type": "code",
   "execution_count": 0,
   "metadata": {
    "application/vnd.databricks.v1+cell": {
     "cellMetadata": {
      "byteLimit": 2048000,
      "rowLimit": 10000
     },
     "inputWidgets": {},
     "nuid": "8a8e6789-99fe-4e60-af6e-78abcebb0bbf",
     "showTitle": false,
     "title": ""
    }
   },
   "outputs": [
    {
     "output_type": "stream",
     "name": "stdout",
     "output_type": "stream",
     "text": [
      "+-----------+---+-----+----+-----------+\n|       name|day|month|year|         id|\n+-----------+---+-----+----+-----------+\n|Abdul Katwa| 23|    5|  81|          0|\n|       Rosy|  7|    8|  63|          1|\n|       Ravi| 28|    1|2002| 8589934592|\n|       John| 12|   12|   6|17179869184|\n|Abdul Katwa| 23|    5|  81|17179869185|\n+-----------+---+-----+----+-----------+\n\n"
     ]
    }
   ],
   "source": [
    "df1 = raw_df.withColumn(\"id\", monotonically_increasing_id())\n",
    "df1.show()"
   ]
  },
  {
   "cell_type": "code",
   "execution_count": 0,
   "metadata": {
    "application/vnd.databricks.v1+cell": {
     "cellMetadata": {
      "byteLimit": 2048000,
      "rowLimit": 10000
     },
     "inputWidgets": {},
     "nuid": "96c9d813-0cea-43ca-a1cd-2575d1d4f66b",
     "showTitle": false,
     "title": ""
    }
   },
   "outputs": [
    {
     "output_type": "stream",
     "name": "stdout",
     "output_type": "stream",
     "text": [
      "+-----------+---+-----+------+-----------+\n|       name|day|month|  year|         id|\n+-----------+---+-----+------+-----------+\n|Abdul Katwa| 23|    5|1981.0|          0|\n|       Rosy|  7|    8|1963.0|          1|\n|       Ravi| 28|    1|  2002| 8589934592|\n|       John| 12|   12|2006.0|17179869184|\n|Abdul Katwa| 23|    5|1981.0|17179869185|\n+-----------+---+-----+------+-----------+\n\n"
     ]
    }
   ],
   "source": [
    "df2 = df1.withColumn(\"year\",\n",
    "                     expr(\n",
    "                         \"\"\"\n",
    "                         case when year < 21 then year +2000\n",
    "                         when year < 100 then year + 1900\n",
    "                         else year\n",
    "                         end\n",
    "                         \"\"\"\n",
    "                     )\n",
    "                     )\n",
    "df2.show()"
   ]
  },
  {
   "cell_type": "code",
   "execution_count": 0,
   "metadata": {
    "application/vnd.databricks.v1+cell": {
     "cellMetadata": {
      "byteLimit": 2048000,
      "rowLimit": 10000
     },
     "inputWidgets": {},
     "nuid": "b96e6d84-46b9-4e0a-a8b4-8be8c03abb9d",
     "showTitle": false,
     "title": ""
    }
   },
   "outputs": [
    {
     "output_type": "stream",
     "name": "stdout",
     "output_type": "stream",
     "text": [
      "+-----------+---+-----+----+-----------+\n|       name|day|month|year|         id|\n+-----------+---+-----+----+-----------+\n|Abdul Katwa| 23|    5|1981|          0|\n|       Rosy|  7|    8|1963|          1|\n|       Ravi| 28|    1|2002| 8589934592|\n|       John| 12|   12|2006|17179869184|\n|Abdul Katwa| 23|    5|1981|17179869185|\n+-----------+---+-----+----+-----------+\n\n"
     ]
    }
   ],
   "source": [
    "df3 = df1.withColumn(\"year\",\n",
    "                     expr(\n",
    "                         \"\"\"\n",
    "                         case when year < 21 then cast(year as int) +2000\n",
    "                         when year < 100 then cast(year as int) + 1900\n",
    "                         else year\n",
    "                         end\n",
    "                         \"\"\"\n",
    "                     )\n",
    "                     )\n",
    "df3.show()"
   ]
  },
  {
   "cell_type": "code",
   "execution_count": 0,
   "metadata": {
    "application/vnd.databricks.v1+cell": {
     "cellMetadata": {
      "byteLimit": 2048000,
      "rowLimit": 10000
     },
     "inputWidgets": {},
     "nuid": "fb20ab1f-4a33-4081-a2a7-1fe5044014d3",
     "showTitle": false,
     "title": ""
    }
   },
   "outputs": [
    {
     "output_type": "stream",
     "name": "stdout",
     "output_type": "stream",
     "text": [
      "+-----------+---+-----+----+-----------+\n|       name|day|month|year|         id|\n+-----------+---+-----+----+-----------+\n|Abdul Katwa| 23|    5|1981|          0|\n|       Rosy|  7|    8|1963|          1|\n|       Ravi| 28|    1|2002| 8589934592|\n|       John| 12|   12|2006|17179869184|\n|Abdul Katwa| 23|    5|1981|17179869185|\n+-----------+---+-----+----+-----------+\n\nroot\n |-- name: string (nullable = true)\n |-- day: string (nullable = true)\n |-- month: string (nullable = true)\n |-- year: integer (nullable = true)\n |-- id: long (nullable = false)\n\n"
     ]
    }
   ],
   "source": [
    "df4 = df1.withColumn(\"year\", expr(\n",
    "    \"\"\"\n",
    "    case when year < 21 then year + 2000\n",
    "    when year  < 100 then year + 1900\n",
    "    else year\n",
    "    end\n",
    "    \"\"\"\n",
    ").cast(IntegerType()))\n",
    "df4.show()\n",
    "df4.printSchema()"
   ]
  },
  {
   "cell_type": "code",
   "execution_count": 0,
   "metadata": {
    "application/vnd.databricks.v1+cell": {
     "cellMetadata": {
      "byteLimit": 2048000,
      "rowLimit": 10000
     },
     "inputWidgets": {},
     "nuid": "9753f04c-9e06-42b2-bc87-599174487f53",
     "showTitle": false,
     "title": ""
    }
   },
   "outputs": [
    {
     "output_type": "stream",
     "name": "stdout",
     "output_type": "stream",
     "text": [
      "+-----------+---+-----+----+-----------+\n|       name|day|month|year|         id|\n+-----------+---+-----+----+-----------+\n|Abdul Katwa| 23|    5|1981|          0|\n|       Rosy|  7|    8|1963|          1|\n|       Ravi| 28|    1|2002| 8589934592|\n|       John| 12|   12|2006|17179869184|\n|Abdul Katwa| 23|    5|1981|17179869185|\n+-----------+---+-----+----+-----------+\n\n"
     ]
    }
   ],
   "source": [
    "df5 = df1.withColumn(\"day\", col(\"day\").cast(IntegerType())) \\\n",
    "    .withColumn(\"month\", col(\"month\").cast(IntegerType())) \\\n",
    "    .withColumn(\"year\", col(\"year\").cast(IntegerType()))\n",
    "df6 = df5.withColumn(\"year\", expr(\"\"\"\n",
    "          case when year < 21 then year + 2000\n",
    "          when year < 100 then year + 1900\n",
    "          else year\n",
    "          end\"\"\"))\n",
    "df6.show()"
   ]
  },
  {
   "cell_type": "code",
   "execution_count": 0,
   "metadata": {
    "application/vnd.databricks.v1+cell": {
     "cellMetadata": {
      "byteLimit": 2048000,
      "rowLimit": 10000
     },
     "inputWidgets": {},
     "nuid": "b31ff0e0-94c6-4e58-a0a6-1f4d60f7f366",
     "showTitle": false,
     "title": ""
    }
   },
   "outputs": [
    {
     "output_type": "stream",
     "name": "stdout",
     "output_type": "stream",
     "text": [
      "+-----------+---+-----+----+-----------+\n|       name|day|month|year|         id|\n+-----------+---+-----+----+-----------+\n|Abdul Katwa| 23|    5|1981|          0|\n|       Rosy|  7|    8|1963|          1|\n|       Ravi| 28|    1|2002| 8589934592|\n|       John| 12|   12|2006|17179869184|\n|Abdul Katwa| 23|    5|1981|17179869185|\n+-----------+---+-----+----+-----------+\n\n"
     ]
    }
   ],
   "source": [
    "df7 = df5.withColumn(\"year\", \\\n",
    "                    when(col(\"year\") < 21, col(\"year\") + 2000) \\\n",
    "                    .when(col(\"year\") < 100, col(\"year\") + 1900) \\\n",
    "                    .otherwise(col(\"year\")))\n",
    "df7.show()"
   ]
  },
  {
   "cell_type": "code",
   "execution_count": 0,
   "metadata": {
    "application/vnd.databricks.v1+cell": {
     "cellMetadata": {
      "byteLimit": 2048000,
      "rowLimit": 10000
     },
     "inputWidgets": {},
     "nuid": "b0741a56-2fe1-452f-a452-8fb6bb41e4f7",
     "showTitle": false,
     "title": ""
    }
   },
   "outputs": [
    {
     "output_type": "stream",
     "name": "stdout",
     "output_type": "stream",
     "text": [
      "+-----------+---+-----+----+-----------+----------+\n|       name|day|month|year|         id|       dob|\n+-----------+---+-----+----+-----------+----------+\n|Abdul Katwa| 23|    5|1981|          0|1981-05-23|\n|       Rosy|  7|    8|1963|          1|1963-08-07|\n|       Ravi| 28|    1|2002| 8589934592|2002-01-28|\n|       John| 12|   12|2006|17179869184|2006-12-12|\n|Abdul Katwa| 23|    5|1981|17179869185|1981-05-23|\n+-----------+---+-----+----+-----------+----------+\n\n"
     ]
    }
   ],
   "source": [
    "df8 = df7.withColumn(\"dob\", expr(\"to_date(concat(day,'/',month,'/',year), 'd/M/y')\"))\n",
    "df8.show()"
   ]
  },
  {
   "cell_type": "code",
   "execution_count": 0,
   "metadata": {
    "application/vnd.databricks.v1+cell": {
     "cellMetadata": {
      "byteLimit": 2048000,
      "rowLimit": 10000
     },
     "inputWidgets": {},
     "nuid": "ead5b68b-9f01-45c6-bdb4-6bfcd433c908",
     "showTitle": false,
     "title": ""
    }
   },
   "outputs": [
    {
     "output_type": "stream",
     "name": "stdout",
     "output_type": "stream",
     "text": [
      "+-----------+-----------+----------+\n|       name|         id|       dob|\n+-----------+-----------+----------+\n|       Rosy|          1|1963-08-07|\n|Abdul Katwa|          0|1981-05-23|\n|       Ravi| 8589934592|2002-01-28|\n|       John|17179869184|2006-12-12|\n+-----------+-----------+----------+\n\n"
     ]
    }
   ],
   "source": [
    "df9 = df7.withColumn(\"dob\", to_date(expr(\"concat(day, '/', month, '/', year)\"), 'd/M/y')) \\\n",
    "    .drop(\"day\", \"month\", \"year\") \\\n",
    "    .dropDuplicates([\"name\", \"dob\"]) \\\n",
    "    .sort(expr(\"dob desc\"))\n",
    "df9.show()"
   ]
  }
 ],
 "metadata": {
  "application/vnd.databricks.v1+notebook": {
   "dashboards": [],
   "environmentMetadata": null,
   "language": "python",
   "notebookMetadata": {
    "pythonIndentUnit": 4
   },
   "notebookName": "Untitled Notebook 2024-09-20 14:46:36",
   "widgets": {}
  }
 },
 "nbformat": 4,
 "nbformat_minor": 0
}
